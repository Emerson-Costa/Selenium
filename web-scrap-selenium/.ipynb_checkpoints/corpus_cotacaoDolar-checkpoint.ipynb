{
 "cells": [
  {
   "cell_type": "markdown",
   "id": "51e39b25",
   "metadata": {},
   "source": [
    "### Importar as Lib's para o Projeto"
   ]
  },
  {
   "cell_type": "code",
   "execution_count": 121,
   "id": "57a08344",
   "metadata": {},
   "outputs": [
    {
     "ename": "ModuleNotFoundError",
     "evalue": "No module named 'pandas'",
     "output_type": "error",
     "traceback": [
      "\u001b[1;31m---------------------------------------------------------------------------\u001b[0m",
      "\u001b[1;31mModuleNotFoundError\u001b[0m                       Traceback (most recent call last)",
      "Cell \u001b[1;32mIn[121], line 10\u001b[0m\n\u001b[0;32m      7\u001b[0m \u001b[38;5;28;01mimport\u001b[39;00m \u001b[38;5;21;01mdatetime\u001b[39;00m\n\u001b[0;32m      9\u001b[0m \u001b[38;5;66;03m# Importação do Pandas\u001b[39;00m\n\u001b[1;32m---> 10\u001b[0m \u001b[38;5;28;01mimport\u001b[39;00m \u001b[38;5;21;01mpandas\u001b[39;00m \u001b[38;5;28;01mas\u001b[39;00m \u001b[38;5;21;01mpd\u001b[39;00m\n",
      "\u001b[1;31mModuleNotFoundError\u001b[0m: No module named 'pandas'"
     ]
    }
   ],
   "source": [
    "# Importações referente ao Selenium e o Webdirver\n",
    "\n",
    "from selenium import webdriver\n",
    "from selenium.webdriver.common.by import By\n",
    "\n",
    "# Importação a bibliotec de Dara e Hora\n",
    "import datetime\n",
    "\n",
    "# Importação do Pandas\n",
    "import pandas as pd"
   ]
  },
  {
   "cell_type": "markdown",
   "id": "d2ba58e4",
   "metadata": {},
   "source": [
    "### Conectar o webdriver para que o Selenium possa controlar navegador"
   ]
  },
  {
   "cell_type": "code",
   "execution_count": null,
   "id": "6cbbc3c2",
   "metadata": {},
   "outputs": [],
   "source": [
    "nav = webdriver.Chrome()"
   ]
  },
  {
   "cell_type": "markdown",
   "id": "7ff0248f",
   "metadata": {},
   "source": [
    "### Lógica para a captura dos dados"
   ]
  },
  {
   "cell_type": "code",
   "execution_count": null,
   "id": "11d58190",
   "metadata": {},
   "outputs": [],
   "source": [
    "\n",
    "# Entrar no google\n",
    "\n",
    "nav.get('https://www.google.com.br/')\n",
    "\n",
    "# Procurar pela cotação do dólar\n",
    "\n",
    "search_op = nav.find_element(By.XPATH,'/html/body/div[1]/div[3]/form/div[1]/div[1]/div[1]/div/div[2]/input')\n",
    "search_op.send_keys(\"Cotação do Dólar em Real Brasileiro\")\n",
    "\n",
    "# Clicar no botão pesquisar\n",
    "\n",
    "search_op = nav.find_element(By.XPATH,'/html/body/div[1]/div[3]/form/div[1]/div[1]/div[4]/center/input[1]')\n",
    "search_op.click()\n",
    "\n",
    "# Guardar o Valor em Real\n",
    "\n",
    "search_op = nav.find_element(By.XPATH,'//*[@id=\"knowledge-currency__updatable-data-column\"]/div[1]/div[2]/span[1]')\n",
    "realValue = search_op.text\n",
    "\n",
    "\n",
    "# Entrar no Site de Finanças do Google\n",
    "\n",
    "search_op = nav.find_element(By.XPATH,'//*[@id=\"currency-v2-updatable_2\"]/div/div[4]/g-more-link/a/div')\n",
    "search_op.click()\n",
    "\n",
    "# Guardar o valor do último fechamento\n",
    "\n",
    "search_op = nav.find_element(By.CLASS_NAME,'P6K39c')\n",
    "ultimoFechamento = search_op.text\n",
    "\n",
    "# Guardar a data e a hora da pesquisa\n",
    "\n",
    "data = datetime.datetime.now()\n",
    "\n",
    "data_string = data.strftime(\"%A %d %B %y %I:%M\")\n",
    "hora = data.strftime(\"%I:%M\")\n",
    "data = data.strftime(\"%d/%m/%y\")"
   ]
  },
  {
   "cell_type": "markdown",
   "id": "77dacd3a",
   "metadata": {},
   "source": [
    "### Salvando os dados no corpus"
   ]
  },
  {
   "cell_type": "code",
   "execution_count": 104,
   "id": "535ac279",
   "metadata": {},
   "outputs": [
    {
     "ename": "NameError",
     "evalue": "name 'hora' is not defined",
     "output_type": "error",
     "traceback": [
      "\u001b[1;31m---------------------------------------------------------------------------\u001b[0m",
      "\u001b[1;31mNameError\u001b[0m                                 Traceback (most recent call last)",
      "Cell \u001b[1;32mIn[104], line 6\u001b[0m\n\u001b[0;32m      1\u001b[0m \u001b[38;5;66;03m## Criando um Dataframe\u001b[39;00m\n\u001b[0;32m      3\u001b[0m cotacao_dolar \u001b[38;5;241m=\u001b[39m {\u001b[38;5;124m'\u001b[39m\u001b[38;5;124mReal Brasileiro\u001b[39m\u001b[38;5;124m'\u001b[39m : realValue,\n\u001b[0;32m      4\u001b[0m                  \u001b[38;5;124m'\u001b[39m\u001b[38;5;124mUltimo Fechamento\u001b[39m\u001b[38;5;124m'\u001b[39m : ultimoFechamento ,\n\u001b[0;32m      5\u001b[0m                  \u001b[38;5;124m'\u001b[39m\u001b[38;5;124mData Pesquisa\u001b[39m\u001b[38;5;124m'\u001b[39m : data,\n\u001b[1;32m----> 6\u001b[0m                  \u001b[38;5;124m'\u001b[39m\u001b[38;5;124mHora da Pesquisa\u001b[39m\u001b[38;5;124m'\u001b[39m : \u001b[43mhora\u001b[49m}\n",
      "\u001b[1;31mNameError\u001b[0m: name 'hora' is not defined"
     ]
    }
   ],
   "source": [
    "## Criando um Dataframe\n",
    "\n",
    "cotacao_dolar = {'Real Brasileiro' : realValue,\n",
    "                 'Ultimo Fechamento' : ultimoFechamento ,\n",
    "                 'Data Pesquisa' : data,\n",
    "                 'Hora da Pesquisa' : hora}"
   ]
  },
  {
   "cell_type": "code",
   "execution_count": null,
   "id": "6ed47c89",
   "metadata": {},
   "outputs": [],
   "source": []
  }
 ],
 "metadata": {
  "kernelspec": {
   "display_name": "Python 3 (ipykernel)",
   "language": "python",
   "name": "python3"
  },
  "language_info": {
   "codemirror_mode": {
    "name": "ipython",
    "version": 3
   },
   "file_extension": ".py",
   "mimetype": "text/x-python",
   "name": "python",
   "nbconvert_exporter": "python",
   "pygments_lexer": "ipython3",
   "version": "3.11.0"
  }
 },
 "nbformat": 4,
 "nbformat_minor": 5
}
