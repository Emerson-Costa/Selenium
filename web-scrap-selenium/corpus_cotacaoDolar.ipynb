{
 "cells": [
  {
   "cell_type": "markdown",
   "id": "51e39b25",
   "metadata": {},
   "source": [
    "### Importar as Lib's para o Projeto"
   ]
  },
  {
   "cell_type": "code",
   "execution_count": 173,
   "id": "57a08344",
   "metadata": {},
   "outputs": [],
   "source": [
    "# Importação do Selenium e do Webdriver\n",
    "\n",
    "from selenium import webdriver\n",
    "from selenium.webdriver.common.by import By\n",
    "\n",
    "# Importação da lib de Dara e Hora\n",
    "import datetime\n",
    "\n",
    "# Importação da lib Pandas\n",
    "import pandas as pd\n",
    "\n",
    "# Importação da Lib path \n",
    "import os.path"
   ]
  },
  {
   "cell_type": "markdown",
   "id": "d2ba58e4",
   "metadata": {},
   "source": [
    "### Conectar o webdriver para que o Selenium possa controlar navegador"
   ]
  },
  {
   "cell_type": "code",
   "execution_count": 191,
   "id": "6cbbc3c2",
   "metadata": {},
   "outputs": [],
   "source": [
    "nav = webdriver.Chrome()"
   ]
  },
  {
   "cell_type": "markdown",
   "id": "7ff0248f",
   "metadata": {},
   "source": [
    "### Lógica para a captura dos dados"
   ]
  },
  {
   "cell_type": "code",
   "execution_count": 192,
   "id": "11d58190",
   "metadata": {},
   "outputs": [],
   "source": [
    "\n",
    "# Entrar no google\n",
    "\n",
    "nav.get('https://www.google.com.br/')\n",
    "\n",
    "# Procurar pela cotação do dólar\n",
    "\n",
    "search_op = nav.find_element(By.XPATH,'/html/body/div[1]/div[3]/form/div[1]/div[1]/div[1]/div/div[2]/input')\n",
    "search_op.send_keys(\"Cotação do Dólar em Real Brasileiro\")\n",
    "\n",
    "# Clicar no botão pesquisar\n",
    "\n",
    "search_op = nav.find_element(By.XPATH,'/html/body/div[1]/div[3]/form/div[1]/div[1]/div[4]/center/input[1]')\n",
    "search_op.click()\n",
    "\n",
    "# Guardar o Valor em Real\n",
    "\n",
    "search_op = nav.find_element(By.XPATH,'//*[@id=\"knowledge-currency__updatable-data-column\"]/div[1]/div[2]/span[1]')\n",
    "realValue = search_op.text\n",
    "\n",
    "\n",
    "# Entrar no Site de Finanças do Google\n",
    "\n",
    "search_op = nav.find_element(By.XPATH,'//*[@id=\"currency-v2-updatable_2\"]/div/div[4]/g-more-link/a/div')\n",
    "search_op.click()\n",
    "\n",
    "# Guardar o valor do último fechamento\n",
    "\n",
    "search_op = nav.find_element(By.CLASS_NAME,'P6K39c')\n",
    "ultimoFechamento = search_op.text\n",
    "\n",
    "# Guardar a data e a hora da pesquisa\n",
    "\n",
    "data = datetime.datetime.now()\n",
    "\n",
    "data_string = data.strftime(\"%A %d %B %y %I:%M\")\n",
    "hora = data.strftime(\"%I:%M\")\n",
    "data = data.strftime(\"%d/%m/%y\")\n",
    "\n",
    "# Fechar o navegador após realizar as buscas\n",
    "nav.close()"
   ]
  },
  {
   "cell_type": "markdown",
   "id": "77dacd3a",
   "metadata": {},
   "source": [
    "### Salvando os dados no corpus"
   ]
  },
  {
   "cell_type": "code",
   "execution_count": 190,
   "id": "535ac279",
   "metadata": {
    "scrolled": false
   },
   "outputs": [
    {
     "data": {
      "text/html": [
       "<div>\n",
       "<style scoped>\n",
       "    .dataframe tbody tr th:only-of-type {\n",
       "        vertical-align: middle;\n",
       "    }\n",
       "\n",
       "    .dataframe tbody tr th {\n",
       "        vertical-align: top;\n",
       "    }\n",
       "\n",
       "    .dataframe thead th {\n",
       "        text-align: right;\n",
       "    }\n",
       "</style>\n",
       "<table border=\"1\" class=\"dataframe\">\n",
       "  <thead>\n",
       "    <tr style=\"text-align: right;\">\n",
       "      <th></th>\n",
       "      <th>Real Brasileiro</th>\n",
       "      <th>Ultimo Fechamento</th>\n",
       "      <th>Data Pesquisa</th>\n",
       "      <th>Hora da Pesquisa</th>\n",
       "    </tr>\n",
       "  </thead>\n",
       "  <tbody>\n",
       "    <tr>\n",
       "      <th>0</th>\n",
       "      <td>5,15</td>\n",
       "      <td>5,15</td>\n",
       "      <td>09/03/23</td>\n",
       "      <td>01:53</td>\n",
       "    </tr>\n",
       "    <tr>\n",
       "      <th>1</th>\n",
       "      <td>5,15</td>\n",
       "      <td>5,15</td>\n",
       "      <td>09/03/23</td>\n",
       "      <td>01:53</td>\n",
       "    </tr>\n",
       "    <tr>\n",
       "      <th>2</th>\n",
       "      <td>5,15</td>\n",
       "      <td>5,15</td>\n",
       "      <td>09/03/23</td>\n",
       "      <td>01:53</td>\n",
       "    </tr>\n",
       "    <tr>\n",
       "      <th>3</th>\n",
       "      <td>5,15</td>\n",
       "      <td>5,15</td>\n",
       "      <td>09/03/23</td>\n",
       "      <td>01:53</td>\n",
       "    </tr>\n",
       "    <tr>\n",
       "      <th>4</th>\n",
       "      <td>5,15</td>\n",
       "      <td>5,15</td>\n",
       "      <td>09/03/23</td>\n",
       "      <td>01:53</td>\n",
       "    </tr>\n",
       "    <tr>\n",
       "      <th>5</th>\n",
       "      <td>5,15</td>\n",
       "      <td>5,15</td>\n",
       "      <td>09/03/23</td>\n",
       "      <td>01:53</td>\n",
       "    </tr>\n",
       "    <tr>\n",
       "      <th>0</th>\n",
       "      <td>5,15</td>\n",
       "      <td>5,15</td>\n",
       "      <td>09/03/23</td>\n",
       "      <td>01:53</td>\n",
       "    </tr>\n",
       "  </tbody>\n",
       "</table>\n",
       "</div>"
      ],
      "text/plain": [
       "  Real Brasileiro Ultimo Fechamento Data Pesquisa Hora da Pesquisa\n",
       "0            5,15              5,15      09/03/23            01:53\n",
       "1            5,15              5,15      09/03/23            01:53\n",
       "2            5,15              5,15      09/03/23            01:53\n",
       "3            5,15              5,15      09/03/23            01:53\n",
       "4            5,15              5,15      09/03/23            01:53\n",
       "5            5,15              5,15      09/03/23            01:53\n",
       "0            5,15              5,15      09/03/23            01:53"
      ]
     },
     "metadata": {},
     "output_type": "display_data"
    }
   ],
   "source": [
    "\n",
    "# Criando um Dicionário com os valores obtidos\n",
    "cotacao_dolar = {'Real Brasileiro'   : [realValue],\n",
    "                 'Ultimo Fechamento' : [ultimoFechamento] ,\n",
    "                 'Data Pesquisa'     : [data],\n",
    "                 'Hora da Pesquisa'  : [hora]}\n",
    "\n",
    "# Se existir o arquivo, então grave os dados nele, senão crie um arquivo novo\n",
    "\n",
    "if(os.path.isfile('cotacaoDolar.csv')):\n",
    "    # Abrir o arquivo para salvar os dados extraídos\n",
    "    corpus_cotacao_dolar = pd.read_csv('cotacaoDolar.csv')\n",
    "    \n",
    "    # Criando um Dataframe a partir do Dicionário criado\n",
    "    cotacao_df = pd.DataFrame(cotacao_dolar)\n",
    "    \n",
    "    # Capturando o índice do elemento existente \n",
    "    rows = corpus_cotacao_dolar.shape[0]\n",
    "    \n",
    "    # Insesindo os dados após o índice obtido\n",
    "    corpus_cotacao_dolar = pd.concat([corpus_cotacao_dolar, cotacao_df], axis=0)\n",
    "    corpus_cotacao_dolar.to_csv('cotacaoDolar.csv', index = False)\n",
    "    \n",
    "    # Exibindo os dados\n",
    "    display(corpus_cotacao_dolar)\n",
    "    \n",
    "else:\n",
    "    \n",
    "    # Criando uma planilha para salvar os dados extraídos\n",
    "    cotacao_df.to_csv('cotacaoDolar.csv', index = False)\n"
   ]
  }
 ],
 "metadata": {
  "kernelspec": {
   "display_name": "Python 3 (ipykernel)",
   "language": "python",
   "name": "python3"
  },
  "language_info": {
   "codemirror_mode": {
    "name": "ipython",
    "version": 3
   },
   "file_extension": ".py",
   "mimetype": "text/x-python",
   "name": "python",
   "nbconvert_exporter": "python",
   "pygments_lexer": "ipython3",
   "version": "3.9.13"
  }
 },
 "nbformat": 4,
 "nbformat_minor": 5
}
